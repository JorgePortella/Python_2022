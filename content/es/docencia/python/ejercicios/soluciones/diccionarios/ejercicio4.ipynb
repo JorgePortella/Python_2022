{
  "cells": [
    {
      "cell_type": "markdown",
      "metadata": {
        "id": "view-in-github",
        "colab_type": "text"
      },
      "source": [
        "<a href=\"https://colab.research.google.com/github/JorgePortella/Python_2022/blob/main/content/es/docencia/python/ejercicios/soluciones/diccionarios/ejercicio4.ipynb\" target=\"_parent\"><img src=\"https://colab.research.google.com/assets/colab-badge.svg\" alt=\"Open In Colab\"/></a>"
      ]
    },
    {
      "cell_type": "markdown",
      "metadata": {
        "id": "BBzEJNz9DVPV"
      },
      "source": [
        "## Ejercicio \n",
        "\n",
        "Escribir un programa que pregunte una fecha en formato `dd/mm/aaaa` y muestre por pantalla la misma fecha en formato `dd de <mes> de aaaa` donde `<mes>` es el nombre del mes."
      ]
    },
    {
      "cell_type": "markdown",
      "metadata": {
        "id": "OUWI9HeFDVPb"
      },
      "source": [
        "## Solución"
      ]
    },
    {
      "cell_type": "code",
      "execution_count": null,
      "metadata": {
        "id": "VQoXWVl4DVPc",
        "outputId": "b729170d-b8a4-4301-eef8-236ae1e65e55"
      },
      "outputs": [
        {
          "name": "stdin",
          "output_type": "stream",
          "text": [
            "Introduce una fecha en formato dd/mm/aaaa:  23/10/2018\n"
          ]
        },
        {
          "name": "stdout",
          "output_type": "stream",
          "text": [
            "23 de octubre de 2018\n"
          ]
        }
      ],
      "source": [
        "meses = {1:'enero', 2:'febrero', 3:'marzo', 4:'abril', 5:'mayo', 6:'junio', 7:'julio', 8:'agosto', 9:'septiembre', 10:'octubre', 11:'noviembre', 12:'diciembre'}\n",
        "fecha = input('Introduce una fecha en formato dd/mm/aaaa: ')\n",
        "fecha = fecha.split('/')\n",
        "print(fecha[0], 'de', meses[int(fecha[1])], 'de', fecha[2])"
      ]
    }
  ],
  "metadata": {
    "kernelspec": {
      "display_name": "Python 3",
      "language": "python",
      "name": "python3"
    },
    "language_info": {
      "codemirror_mode": {
        "name": "ipython",
        "version": 3
      },
      "file_extension": ".py",
      "mimetype": "text/x-python",
      "name": "python",
      "nbconvert_exporter": "python",
      "pygments_lexer": "ipython3",
      "version": "3.7.1"
    },
    "colab": {
      "name": "ejercicio4.ipynb",
      "provenance": [],
      "include_colab_link": true
    }
  },
  "nbformat": 4,
  "nbformat_minor": 0
}